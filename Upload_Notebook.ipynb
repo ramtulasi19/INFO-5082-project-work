{
 "cells": [
  {
   "cell_type": "markdown",
   "metadata": {
    "id": "1flwdAWH7iJk"
   },
   "source": [
    "**Problem Statement :**"
   ]
  },
  {
   "cell_type": "markdown",
   "metadata": {
    "id": "2z_-HGva7iWu"
   },
   "source": [
    "Spam is potentially dangerous. A big reason that it is so important for spam to be filtered is because it can contain malicious content that can spread viruses and cyber attacks. One email can very easily take down a large corporation, so businesses need the best security they can get.\n",
    "\n",
    "\n",
    "my project idea is to classify the text messages into spam or not spam This would save time for the user by not worrying about spam or advertisements and be notified for an important message\n"
   ]
  },
  {
   "cell_type": "markdown",
   "metadata": {
    "id": "yJesbzG28Li4"
   },
   "source": [
    "###  About the dataset : .\n",
    "\n",
    "we have two comma Seprated file which represent about label of spam or ham and anaother atribute is Text ."
   ]
  },
  {
   "cell_type": "markdown",
   "metadata": {
    "id": "8bAfhNcW8kDo"
   },
   "source": [
    "## Our Strategy to Spam Detection  Model\n",
    "\n",
    "A normal  classification algorithems can be used for dectecting spam/not spam.\n",
    "\n",
    "So we'll convert the target variable into it's vector form and then predict the label."
   ]
  },
  {
   "cell_type": "markdown",
   "metadata": {
    "id": "KvyZ2rtm8vNt"
   },
   "source": [
    "### importing the required libraries"
   ]
  },
  {
   "cell_type": "code",
   "execution_count": 8,
   "metadata": {
    "id": "RKSe6w9u-RL8"
   },
   "outputs": [],
   "source": [
    "import pandas as pd\n",
    "import numpy as np\n",
    "import json\n",
    "import nltk\n",
    "import re\n",
    "import csv\n",
    "import matplotlib.pyplot as plt \n",
    "import seaborn as sns\n",
    "from tqdm import tqdm\n",
    "from sklearn.feature_extraction.text import TfidfVectorizer\n",
    "from sklearn.model_selection import train_test_split\n",
    "from sklearn.metrics import classification_report"
   ]
  },
  {
   "cell_type": "markdown",
   "metadata": {
    "id": "h3d2qoAT9Y0v"
   },
   "source": [
    "## getting the data "
   ]
  },
  {
   "cell_type": "code",
   "execution_count": 9,
   "metadata": {
    "id": "lz8C3uh2LPm2"
   },
   "outputs": [],
   "source": [
    "data = pd.read_csv('SMSSpamCollection.csv', encoding = \"ISO-8859-1\", engine='python',header=None)"
   ]
  },
  {
   "cell_type": "code",
   "execution_count": 10,
   "metadata": {
    "id": "2_vieqZ39d4a"
   },
   "outputs": [],
   "source": [
    "Second_DataSet = pd.read_csv('spam.csv', encoding = \"ISO-8859-1\", engine='python', header=None)"
   ]
  },
  {
   "cell_type": "markdown",
   "metadata": {
    "id": "NaJh0bbW9kfM"
   },
   "source": [
    "Exploratory Data Analysis"
   ]
  },
  {
   "cell_type": "code",
   "execution_count": 11,
   "metadata": {
    "colab": {
     "base_uri": "https://localhost:8080/",
     "height": 206
    },
    "id": "DN6mYK7YLzm9",
    "outputId": "37485924-f660-4baf-da5e-3ddfa1b0e2b2"
   },
   "outputs": [
    {
     "data": {
      "text/html": [
       "<div>\n",
       "<style scoped>\n",
       "    .dataframe tbody tr th:only-of-type {\n",
       "        vertical-align: middle;\n",
       "    }\n",
       "\n",
       "    .dataframe tbody tr th {\n",
       "        vertical-align: top;\n",
       "    }\n",
       "\n",
       "    .dataframe thead th {\n",
       "        text-align: right;\n",
       "    }\n",
       "</style>\n",
       "<table border=\"1\" class=\"dataframe\">\n",
       "  <thead>\n",
       "    <tr style=\"text-align: right;\">\n",
       "      <th></th>\n",
       "      <th>0</th>\n",
       "      <th>1</th>\n",
       "    </tr>\n",
       "  </thead>\n",
       "  <tbody>\n",
       "    <tr>\n",
       "      <th>0</th>\n",
       "      <td>ham</td>\n",
       "      <td>Go until jurong point, crazy.. Available only ...</td>\n",
       "    </tr>\n",
       "    <tr>\n",
       "      <th>1</th>\n",
       "      <td>ham</td>\n",
       "      <td>Ok lar... Joking wif u oni...</td>\n",
       "    </tr>\n",
       "    <tr>\n",
       "      <th>2</th>\n",
       "      <td>spam</td>\n",
       "      <td>Free entry in 2 a wkly comp to win FA Cup fina...</td>\n",
       "    </tr>\n",
       "    <tr>\n",
       "      <th>3</th>\n",
       "      <td>ham</td>\n",
       "      <td>U dun say so early hor... U c already then say...</td>\n",
       "    </tr>\n",
       "    <tr>\n",
       "      <th>4</th>\n",
       "      <td>ham</td>\n",
       "      <td>Nah I don't think he goes to usf, he lives aro...</td>\n",
       "    </tr>\n",
       "  </tbody>\n",
       "</table>\n",
       "</div>"
      ],
      "text/plain": [
       "      0                                                  1\n",
       "0   ham  Go until jurong point, crazy.. Available only ...\n",
       "1   ham                      Ok lar... Joking wif u oni...\n",
       "2  spam  Free entry in 2 a wkly comp to win FA Cup fina...\n",
       "3   ham  U dun say so early hor... U c already then say...\n",
       "4   ham  Nah I don't think he goes to usf, he lives aro..."
      ]
     },
     "execution_count": 11,
     "metadata": {},
     "output_type": "execute_result"
    }
   ],
   "source": [
    "data.head()"
   ]
  },
  {
   "cell_type": "code",
   "execution_count": 12,
   "metadata": {
    "colab": {
     "base_uri": "https://localhost:8080/"
    },
    "id": "W4o4WlKOL1Hf",
    "outputId": "08db97a8-963a-4bbb-99a2-6bab67c69b6a"
   },
   "outputs": [
    {
     "data": {
      "text/plain": [
       "(5574, 2)"
      ]
     },
     "execution_count": 12,
     "metadata": {},
     "output_type": "execute_result"
    }
   ],
   "source": [
    "data.shape"
   ]
  },
  {
   "cell_type": "code",
   "execution_count": 13,
   "metadata": {
    "colab": {
     "base_uri": "https://localhost:8080/"
    },
    "id": "JsLt4UecMKkB",
    "outputId": "93b0db2e-2e70-4b6b-f4b3-7532ff32a984"
   },
   "outputs": [
    {
     "data": {
      "text/plain": [
       "ham     4827\n",
       "spam     747\n",
       "Name: 0, dtype: int64"
      ]
     },
     "execution_count": 13,
     "metadata": {},
     "output_type": "execute_result"
    }
   ],
   "source": [
    "data[0].value_counts()"
   ]
  },
  {
   "cell_type": "code",
   "execution_count": 14,
   "metadata": {
    "colab": {
     "base_uri": "https://localhost:8080/"
    },
    "id": "LzgcS9QvMTRO",
    "outputId": "e0d4c90b-37c1-4ec1-8f9d-9853ad4658b9"
   },
   "outputs": [
    {
     "data": {
      "text/plain": [
       "0    0\n",
       "1    0\n",
       "dtype: int64"
      ]
     },
     "execution_count": 14,
     "metadata": {},
     "output_type": "execute_result"
    }
   ],
   "source": [
    "data.isna().sum()"
   ]
  },
  {
   "cell_type": "code",
   "execution_count": 15,
   "metadata": {
    "id": "lSZq3Po79ykS"
   },
   "outputs": [],
   "source": [
    "cols = [0,1]\n",
    "Second_DataSet = Second_DataSet[cols]"
   ]
  },
  {
   "cell_type": "code",
   "execution_count": 16,
   "metadata": {
    "colab": {
     "base_uri": "https://localhost:8080/"
    },
    "id": "2Z2oKz7o9yXW",
    "outputId": "5476bf0c-0d6c-4608-cb80-46766f33d527"
   },
   "outputs": [
    {
     "data": {
      "text/plain": [
       "(5573, 2)"
      ]
     },
     "execution_count": 16,
     "metadata": {},
     "output_type": "execute_result"
    }
   ],
   "source": [
    "Second_DataSet.shape"
   ]
  },
  {
   "cell_type": "markdown",
   "metadata": {
    "id": "3pkwrzeq-CQk"
   },
   "source": [
    "Merging both the datasets"
   ]
  },
  {
   "cell_type": "code",
   "execution_count": 17,
   "metadata": {
    "colab": {
     "base_uri": "https://localhost:8080/",
     "height": 206
    },
    "id": "fhaaJn9rcO7m",
    "outputId": "e560fdf1-6287-4bab-dce1-b885030196b4"
   },
   "outputs": [
    {
     "data": {
      "text/html": [
       "<div>\n",
       "<style scoped>\n",
       "    .dataframe tbody tr th:only-of-type {\n",
       "        vertical-align: middle;\n",
       "    }\n",
       "\n",
       "    .dataframe tbody tr th {\n",
       "        vertical-align: top;\n",
       "    }\n",
       "\n",
       "    .dataframe thead th {\n",
       "        text-align: right;\n",
       "    }\n",
       "</style>\n",
       "<table border=\"1\" class=\"dataframe\">\n",
       "  <thead>\n",
       "    <tr style=\"text-align: right;\">\n",
       "      <th></th>\n",
       "      <th>0</th>\n",
       "      <th>1</th>\n",
       "    </tr>\n",
       "  </thead>\n",
       "  <tbody>\n",
       "    <tr>\n",
       "      <th>0</th>\n",
       "      <td>v1</td>\n",
       "      <td>v2</td>\n",
       "    </tr>\n",
       "    <tr>\n",
       "      <th>1</th>\n",
       "      <td>ham</td>\n",
       "      <td>Go until jurong point, crazy.. Available only ...</td>\n",
       "    </tr>\n",
       "    <tr>\n",
       "      <th>2</th>\n",
       "      <td>ham</td>\n",
       "      <td>Ok lar... Joking wif u oni...</td>\n",
       "    </tr>\n",
       "    <tr>\n",
       "      <th>3</th>\n",
       "      <td>spam</td>\n",
       "      <td>Free entry in 2 a wkly comp to win FA Cup fina...</td>\n",
       "    </tr>\n",
       "    <tr>\n",
       "      <th>4</th>\n",
       "      <td>ham</td>\n",
       "      <td>U dun say so early hor... U c already then say...</td>\n",
       "    </tr>\n",
       "  </tbody>\n",
       "</table>\n",
       "</div>"
      ],
      "text/plain": [
       "      0                                                  1\n",
       "0    v1                                                 v2\n",
       "1   ham  Go until jurong point, crazy.. Available only ...\n",
       "2   ham                      Ok lar... Joking wif u oni...\n",
       "3  spam  Free entry in 2 a wkly comp to win FA Cup fina...\n",
       "4   ham  U dun say so early hor... U c already then say..."
      ]
     },
     "execution_count": 17,
     "metadata": {},
     "output_type": "execute_result"
    }
   ],
   "source": [
    "Second_DataSet.head()"
   ]
  },
  {
   "cell_type": "code",
   "execution_count": 18,
   "metadata": {
    "id": "OMDMnNFDc7Nl"
   },
   "outputs": [],
   "source": [
    "Second_DataSet = Second_DataSet.iloc[1:]"
   ]
  },
  {
   "cell_type": "code",
   "execution_count": 19,
   "metadata": {
    "id": "l62cHXi0NDO_"
   },
   "outputs": [],
   "source": [
    "Total_DataSet =  pd.concat([data, Second_DataSet], ignore_index=True)"
   ]
  },
  {
   "cell_type": "code",
   "execution_count": 20,
   "metadata": {
    "colab": {
     "base_uri": "https://localhost:8080/"
    },
    "id": "tOAwgpE79sgy",
    "outputId": "480bfd4a-cba9-4a68-bc4e-5a39f157e53c"
   },
   "outputs": [
    {
     "data": {
      "text/plain": [
       "(11146, 2)"
      ]
     },
     "execution_count": 20,
     "metadata": {},
     "output_type": "execute_result"
    }
   ],
   "source": [
    "Total_DataSet.shape"
   ]
  },
  {
   "cell_type": "markdown",
   "metadata": {
    "id": "z5QX3-PQ-Jv4"
   },
   "source": [
    "Inspecting the data types, null values and No. of levels"
   ]
  },
  {
   "cell_type": "code",
   "execution_count": 21,
   "metadata": {
    "id": "dNf1hDnJ9vLx"
   },
   "outputs": [],
   "source": [
    "def inspect_data(data) :\n",
    "      return pd.DataFrame({\"Data type\": data.dtypes,\"NUll Values\": data.isnull().sum(),\n",
    "                           \"No of Levels\": data.apply(lambda x: str(x.nunique()),axis=0),\n",
    "                          \"Levels\": data.apply(lambda x: str(x.unique()),axis=0)})"
   ]
  },
  {
   "cell_type": "code",
   "execution_count": 22,
   "metadata": {
    "colab": {
     "base_uri": "https://localhost:8080/",
     "height": 112
    },
    "id": "7K8cUFJs9-1F",
    "outputId": "6a0968b8-d9db-4b43-9581-c3bde9e54643"
   },
   "outputs": [
    {
     "data": {
      "text/html": [
       "<div>\n",
       "<style scoped>\n",
       "    .dataframe tbody tr th:only-of-type {\n",
       "        vertical-align: middle;\n",
       "    }\n",
       "\n",
       "    .dataframe tbody tr th {\n",
       "        vertical-align: top;\n",
       "    }\n",
       "\n",
       "    .dataframe thead th {\n",
       "        text-align: right;\n",
       "    }\n",
       "</style>\n",
       "<table border=\"1\" class=\"dataframe\">\n",
       "  <thead>\n",
       "    <tr style=\"text-align: right;\">\n",
       "      <th></th>\n",
       "      <th>Data type</th>\n",
       "      <th>NUll Values</th>\n",
       "      <th>No of Levels</th>\n",
       "      <th>Levels</th>\n",
       "    </tr>\n",
       "  </thead>\n",
       "  <tbody>\n",
       "    <tr>\n",
       "      <th>0</th>\n",
       "      <td>object</td>\n",
       "      <td>0</td>\n",
       "      <td>2</td>\n",
       "      <td>['ham' 'spam']</td>\n",
       "    </tr>\n",
       "    <tr>\n",
       "      <th>1</th>\n",
       "      <td>object</td>\n",
       "      <td>0</td>\n",
       "      <td>5726</td>\n",
       "      <td>['Go until jurong point, crazy.. Available onl...</td>\n",
       "    </tr>\n",
       "  </tbody>\n",
       "</table>\n",
       "</div>"
      ],
      "text/plain": [
       "  Data type  NUll Values No of Levels  \\\n",
       "0    object            0            2   \n",
       "1    object            0         5726   \n",
       "\n",
       "                                              Levels  \n",
       "0                                     ['ham' 'spam']  \n",
       "1  ['Go until jurong point, crazy.. Available onl...  "
      ]
     },
     "execution_count": 22,
     "metadata": {},
     "output_type": "execute_result"
    }
   ],
   "source": [
    "inspect_data(Total_DataSet)"
   ]
  },
  {
   "cell_type": "markdown",
   "metadata": {
    "id": "CqQZQfe--Zv6"
   },
   "source": [
    "Data Preprocessing :\n",
    "\n"
   ]
  },
  {
   "cell_type": "code",
   "execution_count": 23,
   "metadata": {
    "id": "QFP0Q_-s-DWp"
   },
   "outputs": [],
   "source": [
    "import re\n",
    "def clean_text(text):\n",
    "    # remove backslash-apostrophe \n",
    "    text = re.sub(\"\\'\", \"\", text) \n",
    "    # remove everything except alphabets \n",
    "    text = re.sub(\"[^a-zA-Z]\",\" \",text) \n",
    "    # remove whitespaces \n",
    "    text = ' '.join(text.split()) \n",
    "    # convert text to lowercase \n",
    "    text = text.lower() \n",
    "    \n",
    "    return text"
   ]
  },
  {
   "cell_type": "code",
   "execution_count": 24,
   "metadata": {
    "id": "WcJtnc11-gg2"
   },
   "outputs": [],
   "source": [
    "Total_DataSet['clean_plot'] = Total_DataSet[1].apply(lambda x: clean_text(x))"
   ]
  },
  {
   "cell_type": "code",
   "execution_count": 25,
   "metadata": {
    "colab": {
     "base_uri": "https://localhost:8080/",
     "height": 206
    },
    "id": "ZvOgwq4pM8dm",
    "outputId": "6b0b1cef-5db5-4777-eedb-08126afaa19a"
   },
   "outputs": [
    {
     "data": {
      "text/html": [
       "<div>\n",
       "<style scoped>\n",
       "    .dataframe tbody tr th:only-of-type {\n",
       "        vertical-align: middle;\n",
       "    }\n",
       "\n",
       "    .dataframe tbody tr th {\n",
       "        vertical-align: top;\n",
       "    }\n",
       "\n",
       "    .dataframe thead th {\n",
       "        text-align: right;\n",
       "    }\n",
       "</style>\n",
       "<table border=\"1\" class=\"dataframe\">\n",
       "  <thead>\n",
       "    <tr style=\"text-align: right;\">\n",
       "      <th></th>\n",
       "      <th>0</th>\n",
       "      <th>1</th>\n",
       "      <th>clean_plot</th>\n",
       "    </tr>\n",
       "  </thead>\n",
       "  <tbody>\n",
       "    <tr>\n",
       "      <th>0</th>\n",
       "      <td>ham</td>\n",
       "      <td>Go until jurong point, crazy.. Available only ...</td>\n",
       "      <td>go until jurong point crazy available only in ...</td>\n",
       "    </tr>\n",
       "    <tr>\n",
       "      <th>1</th>\n",
       "      <td>ham</td>\n",
       "      <td>Ok lar... Joking wif u oni...</td>\n",
       "      <td>ok lar joking wif u oni</td>\n",
       "    </tr>\n",
       "    <tr>\n",
       "      <th>2</th>\n",
       "      <td>spam</td>\n",
       "      <td>Free entry in 2 a wkly comp to win FA Cup fina...</td>\n",
       "      <td>free entry in a wkly comp to win fa cup final ...</td>\n",
       "    </tr>\n",
       "    <tr>\n",
       "      <th>3</th>\n",
       "      <td>ham</td>\n",
       "      <td>U dun say so early hor... U c already then say...</td>\n",
       "      <td>u dun say so early hor u c already then say</td>\n",
       "    </tr>\n",
       "    <tr>\n",
       "      <th>4</th>\n",
       "      <td>ham</td>\n",
       "      <td>Nah I don't think he goes to usf, he lives aro...</td>\n",
       "      <td>nah i dont think he goes to usf he lives aroun...</td>\n",
       "    </tr>\n",
       "  </tbody>\n",
       "</table>\n",
       "</div>"
      ],
      "text/plain": [
       "      0                                                  1  \\\n",
       "0   ham  Go until jurong point, crazy.. Available only ...   \n",
       "1   ham                      Ok lar... Joking wif u oni...   \n",
       "2  spam  Free entry in 2 a wkly comp to win FA Cup fina...   \n",
       "3   ham  U dun say so early hor... U c already then say...   \n",
       "4   ham  Nah I don't think he goes to usf, he lives aro...   \n",
       "\n",
       "                                          clean_plot  \n",
       "0  go until jurong point crazy available only in ...  \n",
       "1                            ok lar joking wif u oni  \n",
       "2  free entry in a wkly comp to win fa cup final ...  \n",
       "3        u dun say so early hor u c already then say  \n",
       "4  nah i dont think he goes to usf he lives aroun...  "
      ]
     },
     "execution_count": 25,
     "metadata": {},
     "output_type": "execute_result"
    }
   ],
   "source": [
    "Total_DataSet.head()"
   ]
  },
  {
   "cell_type": "code",
   "execution_count": 26,
   "metadata": {
    "colab": {
     "base_uri": "https://localhost:8080/",
     "height": 877
    },
    "id": "RFijxX_t-uca",
    "outputId": "b34d996c-8fb4-4ef6-ed13-cf25bb663704"
   },
   "outputs": [
    {
     "data": {
      "image/png": "[encoded data removed]",
      "text/plain": [
       "<Figure size 864x1080 with 1 Axes>"
      ]
     },
     "metadata": {
      "needs_background": "light"
     },
     "output_type": "display_data"
    }
   ],
   "source": [
    "import nltk\n",
    "def freq_words(x, terms = 30): \n",
    "  all_words = ' '.join([text for text in x]) \n",
    "  all_words = all_words.split() \n",
    "  fdist = nltk.FreqDist(all_words) \n",
    "  words_df = pd.DataFrame({'word':list(fdist.keys()), 'count':list(fdist.values())}) \n",
    "  \n",
    "  # selecting top 20 most frequent words \n",
    "  d = words_df.nlargest(columns=\"count\", n = terms) \n",
    "  \n",
    "  # visualize words and frequencies\n",
    "  plt.figure(figsize=(12,15)) \n",
    "  ax = sns.barplot(data=d, x= \"count\", y = \"word\") \n",
    "  ax.set(ylabel = 'Word') \n",
    "  plt.show()\n",
    "  \n",
    "# print 100 most frequent words \n",
    "freq_words(Total_DataSet['clean_plot'], 100)"
   ]
  },
  {
   "cell_type": "markdown",
   "metadata": {
    "id": "4i0fvBbyb7_m"
   },
   "source": [
    "Visuals before removing stopwords "
   ]
  },
  {
   "cell_type": "markdown",
   "metadata": {
    "id": "bZ0lNvH0Sqss"
   },
   "source": [
    "Importing Stopwords"
   ]
  },
  {
   "cell_type": "code",
   "execution_count": 27,
   "metadata": {
    "colab": {
     "base_uri": "https://localhost:8080/"
    },
    "id": "hwpXCzcu-x7J",
    "outputId": "b93ef5a5-bf60-40f6-803d-6ff2ef8f83c2"
   },
   "outputs": [
    {
     "name": "stderr",
     "output_type": "stream",
     "text": [
      "[nltk_data] Downloading package stopwords to\n",
      "[nltk_data]     C:\\Users\\ramtu\\AppData\\Roaming\\nltk_data...\n",
      "[nltk_data]   Package stopwords is already up-to-date!\n"
     ]
    },
    {
     "data": {
      "text/plain": [
       "True"
      ]
     },
     "execution_count": 27,
     "metadata": {},
     "output_type": "execute_result"
    }
   ],
   "source": [
    "nltk.download('stopwords')"
   ]
  },
  {
   "cell_type": "code",
   "execution_count": 28,
   "metadata": {
    "id": "Gs4CboFu-8CS"
   },
   "outputs": [],
   "source": [
    "from nltk.corpus import stopwords\n",
    "stop_words = set(stopwords.words('english'))\n",
    "\n",
    "# function to remove stopwords\n",
    "def remove_stopwords(text):\n",
    "    no_stopword_text = [w for w in text.split() if not w in stop_words]\n",
    "    return ' '.join(no_stopword_text)\n",
    "\n",
    "Total_DataSet['clean_plot'] = Total_DataSet['clean_plot'].apply(lambda x: remove_stopwords(x))"
   ]
  },
  {
   "cell_type": "markdown",
   "metadata": {
    "id": "moeqI-CL_R3Y"
   },
   "source": [
    "Visuals After Removing Stopwords"
   ]
  },
  {
   "cell_type": "code",
   "execution_count": 29,
   "metadata": {
    "colab": {
     "base_uri": "https://localhost:8080/",
     "height": 877
    },
    "id": "hTHFi4tb--si",
    "outputId": "3192257c-9500-409c-a52e-e662f7f50538"
   },
   "outputs": [
    {
     "data": {
      "image/png": "[encoded data removed]",
      "text/plain": [
       "<Figure size 864x1080 with 1 Axes>"
      ]
     },
     "metadata": {
      "needs_background": "light"
     },
     "output_type": "display_data"
    }
   ],
   "source": [
    "freq_words(Total_DataSet['clean_plot'], 100)"
   ]
  },
  {
   "cell_type": "code",
   "execution_count": 30,
   "metadata": {
    "colab": {
     "base_uri": "https://localhost:8080/",
     "height": 206
    },
    "id": "dT8e8ma6AjRX",
    "outputId": "414cc54a-5634-43c0-81c7-e00160a85319"
   },
   "outputs": [
    {
     "data": {
      "text/html": [
       "<div>\n",
       "<style scoped>\n",
       "    .dataframe tbody tr th:only-of-type {\n",
       "        vertical-align: middle;\n",
       "    }\n",
       "\n",
       "    .dataframe tbody tr th {\n",
       "        vertical-align: top;\n",
       "    }\n",
       "\n",
       "    .dataframe thead th {\n",
       "        text-align: right;\n",
       "    }\n",
       "</style>\n",
       "<table border=\"1\" class=\"dataframe\">\n",
       "  <thead>\n",
       "    <tr style=\"text-align: right;\">\n",
       "      <th></th>\n",
       "      <th>0</th>\n",
       "      <th>1</th>\n",
       "      <th>clean_plot</th>\n",
       "      <th>length</th>\n",
       "    </tr>\n",
       "  </thead>\n",
       "  <tbody>\n",
       "    <tr>\n",
       "      <th>0</th>\n",
       "      <td>ham</td>\n",
       "      <td>Go until jurong point, crazy.. Available only ...</td>\n",
       "      <td>go jurong point crazy available bugis n great ...</td>\n",
       "      <td>82</td>\n",
       "    </tr>\n",
       "    <tr>\n",
       "      <th>1</th>\n",
       "      <td>ham</td>\n",
       "      <td>Ok lar... Joking wif u oni...</td>\n",
       "      <td>ok lar joking wif u oni</td>\n",
       "      <td>23</td>\n",
       "    </tr>\n",
       "    <tr>\n",
       "      <th>2</th>\n",
       "      <td>spam</td>\n",
       "      <td>Free entry in 2 a wkly comp to win FA Cup fina...</td>\n",
       "      <td>free entry wkly comp win fa cup final tkts st ...</td>\n",
       "      <td>102</td>\n",
       "    </tr>\n",
       "    <tr>\n",
       "      <th>3</th>\n",
       "      <td>ham</td>\n",
       "      <td>U dun say so early hor... U c already then say...</td>\n",
       "      <td>u dun say early hor u c already say</td>\n",
       "      <td>35</td>\n",
       "    </tr>\n",
       "    <tr>\n",
       "      <th>4</th>\n",
       "      <td>ham</td>\n",
       "      <td>Nah I don't think he goes to usf, he lives aro...</td>\n",
       "      <td>nah dont think goes usf lives around though</td>\n",
       "      <td>43</td>\n",
       "    </tr>\n",
       "  </tbody>\n",
       "</table>\n",
       "</div>"
      ],
      "text/plain": [
       "      0                                                  1  \\\n",
       "0   ham  Go until jurong point, crazy.. Available only ...   \n",
       "1   ham                      Ok lar... Joking wif u oni...   \n",
       "2  spam  Free entry in 2 a wkly comp to win FA Cup fina...   \n",
       "3   ham  U dun say so early hor... U c already then say...   \n",
       "4   ham  Nah I don't think he goes to usf, he lives aro...   \n",
       "\n",
       "                                          clean_plot  length  \n",
       "0  go jurong point crazy available bugis n great ...      82  \n",
       "1                            ok lar joking wif u oni      23  \n",
       "2  free entry wkly comp win fa cup final tkts st ...     102  \n",
       "3                u dun say early hor u c already say      35  \n",
       "4        nah dont think goes usf lives around though      43  "
      ]
     },
     "execution_count": 30,
     "metadata": {},
     "output_type": "execute_result"
    }
   ],
   "source": [
    "Total_DataSet['length']=Total_DataSet['clean_plot'].apply(len)\n",
    "Total_DataSet.head()"
   ]
  },
  {
   "cell_type": "code",
   "execution_count": 31,
   "metadata": {
    "colab": {
     "base_uri": "https://localhost:8080/",
     "height": 286
    },
    "id": "M8ENhXnq_-6O",
    "outputId": "e918c2d1-d1bd-46ce-fcc7-8b511d387fda"
   },
   "outputs": [
    {
     "data": {
      "text/plain": [
       "<AxesSubplot:ylabel='Frequency'>"
      ]
     },
     "execution_count": 31,
     "metadata": {},
     "output_type": "execute_result"
    },
    {
     "data": {
      "image/png": "[encoded data removed]",
      "text/plain": [
       "<Figure size 432x288 with 1 Axes>"
      ]
     },
     "metadata": {
      "needs_background": "light"
     },
     "output_type": "display_data"
    }
   ],
   "source": [
    "Total_DataSet['length'].plot(bins=50,kind='hist')"
   ]
  },
  {
   "cell_type": "code",
   "execution_count": 32,
   "metadata": {
    "colab": {
     "base_uri": "https://localhost:8080/",
     "height": 206
    },
    "id": "OMtgTqdWIvoK",
    "outputId": "c2f0dc4a-600b-4eb1-ec19-34f2343573c6"
   },
   "outputs": [
    {
     "data": {
      "text/html": [
       "<div>\n",
       "<style scoped>\n",
       "    .dataframe tbody tr th:only-of-type {\n",
       "        vertical-align: middle;\n",
       "    }\n",
       "\n",
       "    .dataframe tbody tr th {\n",
       "        vertical-align: top;\n",
       "    }\n",
       "\n",
       "    .dataframe thead th {\n",
       "        text-align: right;\n",
       "    }\n",
       "</style>\n",
       "<table border=\"1\" class=\"dataframe\">\n",
       "  <thead>\n",
       "    <tr style=\"text-align: right;\">\n",
       "      <th></th>\n",
       "      <th>0</th>\n",
       "      <th>1</th>\n",
       "      <th>clean_plot</th>\n",
       "      <th>length</th>\n",
       "    </tr>\n",
       "  </thead>\n",
       "  <tbody>\n",
       "    <tr>\n",
       "      <th>0</th>\n",
       "      <td>ham</td>\n",
       "      <td>Go until jurong point, crazy.. Available only ...</td>\n",
       "      <td>go jurong point crazy available bugis n great ...</td>\n",
       "      <td>82</td>\n",
       "    </tr>\n",
       "    <tr>\n",
       "      <th>1</th>\n",
       "      <td>ham</td>\n",
       "      <td>Ok lar... Joking wif u oni...</td>\n",
       "      <td>ok lar joking wif u oni</td>\n",
       "      <td>23</td>\n",
       "    </tr>\n",
       "    <tr>\n",
       "      <th>2</th>\n",
       "      <td>spam</td>\n",
       "      <td>Free entry in 2 a wkly comp to win FA Cup fina...</td>\n",
       "      <td>free entry wkly comp win fa cup final tkts st ...</td>\n",
       "      <td>102</td>\n",
       "    </tr>\n",
       "    <tr>\n",
       "      <th>3</th>\n",
       "      <td>ham</td>\n",
       "      <td>U dun say so early hor... U c already then say...</td>\n",
       "      <td>u dun say early hor u c already say</td>\n",
       "      <td>35</td>\n",
       "    </tr>\n",
       "    <tr>\n",
       "      <th>4</th>\n",
       "      <td>ham</td>\n",
       "      <td>Nah I don't think he goes to usf, he lives aro...</td>\n",
       "      <td>nah dont think goes usf lives around though</td>\n",
       "      <td>43</td>\n",
       "    </tr>\n",
       "  </tbody>\n",
       "</table>\n",
       "</div>"
      ],
      "text/plain": [
       "      0                                                  1  \\\n",
       "0   ham  Go until jurong point, crazy.. Available only ...   \n",
       "1   ham                      Ok lar... Joking wif u oni...   \n",
       "2  spam  Free entry in 2 a wkly comp to win FA Cup fina...   \n",
       "3   ham  U dun say so early hor... U c already then say...   \n",
       "4   ham  Nah I don't think he goes to usf, he lives aro...   \n",
       "\n",
       "                                          clean_plot  length  \n",
       "0  go jurong point crazy available bugis n great ...      82  \n",
       "1                            ok lar joking wif u oni      23  \n",
       "2  free entry wkly comp win fa cup final tkts st ...     102  \n",
       "3                u dun say early hor u c already say      35  \n",
       "4        nah dont think goes usf lives around though      43  "
      ]
     },
     "execution_count": 32,
     "metadata": {},
     "output_type": "execute_result"
    }
   ],
   "source": [
    "Total_DataSet.head()"
   ]
  },
  {
   "cell_type": "markdown",
   "metadata": {
    "id": "fRMMxHI2_Zcy"
   },
   "source": [
    "Applying tfidf_vectorizer"
   ]
  },
  {
   "cell_type": "code",
   "execution_count": 33,
   "metadata": {
    "id": "JPjuh7Sp_F9e"
   },
   "outputs": [],
   "source": [
    "tfidf_vectorizer = TfidfVectorizer(max_df=0.8, max_features=10000)\n",
    "DataSet = Total_DataSet.copy()"
   ]
  },
  {
   "cell_type": "code",
   "execution_count": 34,
   "metadata": {
    "colab": {
     "base_uri": "https://localhost:8080/",
     "height": 206
    },
    "id": "JbSqUbf0BpvZ",
    "outputId": "9cc24537-1315-4e77-ac1c-583fefa74a7d"
   },
   "outputs": [
    {
     "data": {
      "text/html": [
       "<div>\n",
       "<style scoped>\n",
       "    .dataframe tbody tr th:only-of-type {\n",
       "        vertical-align: middle;\n",
       "    }\n",
       "\n",
       "    .dataframe tbody tr th {\n",
       "        vertical-align: top;\n",
       "    }\n",
       "\n",
       "    .dataframe thead th {\n",
       "        text-align: right;\n",
       "    }\n",
       "</style>\n",
       "<table border=\"1\" class=\"dataframe\">\n",
       "  <thead>\n",
       "    <tr style=\"text-align: right;\">\n",
       "      <th></th>\n",
       "      <th>0</th>\n",
       "      <th>1</th>\n",
       "      <th>clean_plot</th>\n",
       "      <th>length</th>\n",
       "    </tr>\n",
       "  </thead>\n",
       "  <tbody>\n",
       "    <tr>\n",
       "      <th>0</th>\n",
       "      <td>ham</td>\n",
       "      <td>Go until jurong point, crazy.. Available only ...</td>\n",
       "      <td>go jurong point crazy available bugis n great ...</td>\n",
       "      <td>82</td>\n",
       "    </tr>\n",
       "    <tr>\n",
       "      <th>1</th>\n",
       "      <td>ham</td>\n",
       "      <td>Ok lar... Joking wif u oni...</td>\n",
       "      <td>ok lar joking wif u oni</td>\n",
       "      <td>23</td>\n",
       "    </tr>\n",
       "    <tr>\n",
       "      <th>2</th>\n",
       "      <td>spam</td>\n",
       "      <td>Free entry in 2 a wkly comp to win FA Cup fina...</td>\n",
       "      <td>free entry wkly comp win fa cup final tkts st ...</td>\n",
       "      <td>102</td>\n",
       "    </tr>\n",
       "    <tr>\n",
       "      <th>3</th>\n",
       "      <td>ham</td>\n",
       "      <td>U dun say so early hor... U c already then say...</td>\n",
       "      <td>u dun say early hor u c already say</td>\n",
       "      <td>35</td>\n",
       "    </tr>\n",
       "    <tr>\n",
       "      <th>4</th>\n",
       "      <td>ham</td>\n",
       "      <td>Nah I don't think he goes to usf, he lives aro...</td>\n",
       "      <td>nah dont think goes usf lives around though</td>\n",
       "      <td>43</td>\n",
       "    </tr>\n",
       "  </tbody>\n",
       "</table>\n",
       "</div>"
      ],
      "text/plain": [
       "      0                                                  1  \\\n",
       "0   ham  Go until jurong point, crazy.. Available only ...   \n",
       "1   ham                      Ok lar... Joking wif u oni...   \n",
       "2  spam  Free entry in 2 a wkly comp to win FA Cup fina...   \n",
       "3   ham  U dun say so early hor... U c already then say...   \n",
       "4   ham  Nah I don't think he goes to usf, he lives aro...   \n",
       "\n",
       "                                          clean_plot  length  \n",
       "0  go jurong point crazy available bugis n great ...      82  \n",
       "1                            ok lar joking wif u oni      23  \n",
       "2  free entry wkly comp win fa cup final tkts st ...     102  \n",
       "3                u dun say early hor u c already say      35  \n",
       "4        nah dont think goes usf lives around though      43  "
      ]
     },
     "execution_count": 34,
     "metadata": {},
     "output_type": "execute_result"
    }
   ],
   "source": [
    "DataSet.head()"
   ]
  },
  {
   "cell_type": "code",
   "execution_count": 35,
   "metadata": {
    "colab": {
     "base_uri": "https://localhost:8080/",
     "height": 206
    },
    "id": "SVN-ndoD_yHJ",
    "outputId": "21b56078-0217-4a19-e43a-82084b8cf88b"
   },
   "outputs": [
    {
     "data": {
      "text/html": [
       "<div>\n",
       "<style scoped>\n",
       "    .dataframe tbody tr th:only-of-type {\n",
       "        vertical-align: middle;\n",
       "    }\n",
       "\n",
       "    .dataframe tbody tr th {\n",
       "        vertical-align: top;\n",
       "    }\n",
       "\n",
       "    .dataframe thead th {\n",
       "        text-align: right;\n",
       "    }\n",
       "</style>\n",
       "<table border=\"1\" class=\"dataframe\">\n",
       "  <thead>\n",
       "    <tr style=\"text-align: right;\">\n",
       "      <th></th>\n",
       "      <th>0</th>\n",
       "      <th>1</th>\n",
       "      <th>clean_plot</th>\n",
       "      <th>length</th>\n",
       "    </tr>\n",
       "  </thead>\n",
       "  <tbody>\n",
       "    <tr>\n",
       "      <th>0</th>\n",
       "      <td>ham</td>\n",
       "      <td>Go until jurong point, crazy.. Available only ...</td>\n",
       "      <td>go jurong point crazy available bugis n great ...</td>\n",
       "      <td>82</td>\n",
       "    </tr>\n",
       "    <tr>\n",
       "      <th>1</th>\n",
       "      <td>ham</td>\n",
       "      <td>Ok lar... Joking wif u oni...</td>\n",
       "      <td>ok lar joking wif u oni</td>\n",
       "      <td>23</td>\n",
       "    </tr>\n",
       "    <tr>\n",
       "      <th>2</th>\n",
       "      <td>spam</td>\n",
       "      <td>Free entry in 2 a wkly comp to win FA Cup fina...</td>\n",
       "      <td>free entry wkly comp win fa cup final tkts st ...</td>\n",
       "      <td>102</td>\n",
       "    </tr>\n",
       "    <tr>\n",
       "      <th>3</th>\n",
       "      <td>ham</td>\n",
       "      <td>U dun say so early hor... U c already then say...</td>\n",
       "      <td>u dun say early hor u c already say</td>\n",
       "      <td>35</td>\n",
       "    </tr>\n",
       "    <tr>\n",
       "      <th>4</th>\n",
       "      <td>ham</td>\n",
       "      <td>Nah I don't think he goes to usf, he lives aro...</td>\n",
       "      <td>nah dont think goes usf lives around though</td>\n",
       "      <td>43</td>\n",
       "    </tr>\n",
       "  </tbody>\n",
       "</table>\n",
       "</div>"
      ],
      "text/plain": [
       "      0                                                  1  \\\n",
       "0   ham  Go until jurong point, crazy.. Available only ...   \n",
       "1   ham                      Ok lar... Joking wif u oni...   \n",
       "2  spam  Free entry in 2 a wkly comp to win FA Cup fina...   \n",
       "3   ham  U dun say so early hor... U c already then say...   \n",
       "4   ham  Nah I don't think he goes to usf, he lives aro...   \n",
       "\n",
       "                                          clean_plot  length  \n",
       "0  go jurong point crazy available bugis n great ...      82  \n",
       "1                            ok lar joking wif u oni      23  \n",
       "2  free entry wkly comp win fa cup final tkts st ...     102  \n",
       "3                u dun say early hor u c already say      35  \n",
       "4        nah dont think goes usf lives around though      43  "
      ]
     },
     "execution_count": 35,
     "metadata": {},
     "output_type": "execute_result"
    }
   ],
   "source": [
    "DataSet.head()"
   ]
  },
  {
   "cell_type": "code",
   "execution_count": 36,
   "metadata": {
    "colab": {
     "base_uri": "https://localhost:8080/"
    },
    "id": "2YuhSPX0_3Kf",
    "outputId": "66f8535e-5a33-49ab-d88f-cee19d6e913f"
   },
   "outputs": [
    {
     "data": {
      "text/plain": [
       "ham     9652\n",
       "spam    1494\n",
       "Name: 0, dtype: int64"
      ]
     },
     "execution_count": 36,
     "metadata": {},
     "output_type": "execute_result"
    }
   ],
   "source": [
    "DataSet[0].value_counts()"
   ]
  },
  {
   "cell_type": "code",
   "execution_count": null,
   "metadata": {
    "id": "2Jr0vpj4d9B_"
   },
   "outputs": [],
   "source": []
  },
  {
   "cell_type": "code",
   "execution_count": 37,
   "metadata": {
    "colab": {
     "base_uri": "https://localhost:8080/"
    },
    "id": "J5lCTgQuBMFs",
    "outputId": "f7b185cc-3910-44c3-c1b3-6d208087c758"
   },
   "outputs": [
    {
     "name": "stderr",
     "output_type": "stream",
     "text": [
      "C:\\Users\\ramtu\\AppData\\Local\\Temp/ipykernel_6400/908470458.py:3: SettingWithCopyWarning: \n",
      "A value is trying to be set on a copy of a slice from a DataFrame\n",
      "\n",
      "See the caveats in the documentation: https://pandas.pydata.org/pandas-docs/stable/user_guide/indexing.html#returning-a-view-versus-a-copy\n",
      "  DataSet[0][i] = 0\n",
      "C:\\Users\\ramtu\\AppData\\Local\\Temp/ipykernel_6400/908470458.py:5: SettingWithCopyWarning: \n",
      "A value is trying to be set on a copy of a slice from a DataFrame\n",
      "\n",
      "See the caveats in the documentation: https://pandas.pydata.org/pandas-docs/stable/user_guide/indexing.html#returning-a-view-versus-a-copy\n",
      "  DataSet[0][i] = 1\n"
     ]
    }
   ],
   "source": [
    "for i in range(DataSet.shape[0]):\n",
    "  if DataSet[0][i] == 'ham':\n",
    "    DataSet[0][i] = 0\n",
    "  else:\n",
    "    DataSet[0][i] = 1"
   ]
  },
  {
   "cell_type": "code",
   "execution_count": 38,
   "metadata": {
    "colab": {
     "base_uri": "https://localhost:8080/",
     "height": 206
    },
    "id": "_-nNnX0hBhhw",
    "outputId": "53015468-cf80-490c-c6c3-84405589a22a"
   },
   "outputs": [
    {
     "data": {
      "text/html": [
       "<div>\n",
       "<style scoped>\n",
       "    .dataframe tbody tr th:only-of-type {\n",
       "        vertical-align: middle;\n",
       "    }\n",
       "\n",
       "    .dataframe tbody tr th {\n",
       "        vertical-align: top;\n",
       "    }\n",
       "\n",
       "    .dataframe thead th {\n",
       "        text-align: right;\n",
       "    }\n",
       "</style>\n",
       "<table border=\"1\" class=\"dataframe\">\n",
       "  <thead>\n",
       "    <tr style=\"text-align: right;\">\n",
       "      <th></th>\n",
       "      <th>0</th>\n",
       "      <th>1</th>\n",
       "      <th>clean_plot</th>\n",
       "      <th>length</th>\n",
       "    </tr>\n",
       "  </thead>\n",
       "  <tbody>\n",
       "    <tr>\n",
       "      <th>0</th>\n",
       "      <td>0</td>\n",
       "      <td>Go until jurong point, crazy.. Available only ...</td>\n",
       "      <td>go jurong point crazy available bugis n great ...</td>\n",
       "      <td>82</td>\n",
       "    </tr>\n",
       "    <tr>\n",
       "      <th>1</th>\n",
       "      <td>0</td>\n",
       "      <td>Ok lar... Joking wif u oni...</td>\n",
       "      <td>ok lar joking wif u oni</td>\n",
       "      <td>23</td>\n",
       "    </tr>\n",
       "    <tr>\n",
       "      <th>2</th>\n",
       "      <td>1</td>\n",
       "      <td>Free entry in 2 a wkly comp to win FA Cup fina...</td>\n",
       "      <td>free entry wkly comp win fa cup final tkts st ...</td>\n",
       "      <td>102</td>\n",
       "    </tr>\n",
       "    <tr>\n",
       "      <th>3</th>\n",
       "      <td>0</td>\n",
       "      <td>U dun say so early hor... U c already then say...</td>\n",
       "      <td>u dun say early hor u c already say</td>\n",
       "      <td>35</td>\n",
       "    </tr>\n",
       "    <tr>\n",
       "      <th>4</th>\n",
       "      <td>0</td>\n",
       "      <td>Nah I don't think he goes to usf, he lives aro...</td>\n",
       "      <td>nah dont think goes usf lives around though</td>\n",
       "      <td>43</td>\n",
       "    </tr>\n",
       "  </tbody>\n",
       "</table>\n",
       "</div>"
      ],
      "text/plain": [
       "   0                                                  1  \\\n",
       "0  0  Go until jurong point, crazy.. Available only ...   \n",
       "1  0                      Ok lar... Joking wif u oni...   \n",
       "2  1  Free entry in 2 a wkly comp to win FA Cup fina...   \n",
       "3  0  U dun say so early hor... U c already then say...   \n",
       "4  0  Nah I don't think he goes to usf, he lives aro...   \n",
       "\n",
       "                                          clean_plot  length  \n",
       "0  go jurong point crazy available bugis n great ...      82  \n",
       "1                            ok lar joking wif u oni      23  \n",
       "2  free entry wkly comp win fa cup final tkts st ...     102  \n",
       "3                u dun say early hor u c already say      35  \n",
       "4        nah dont think goes usf lives around though      43  "
      ]
     },
     "execution_count": 38,
     "metadata": {},
     "output_type": "execute_result"
    }
   ],
   "source": [
    "DataSet.head()"
   ]
  },
  {
   "cell_type": "code",
   "execution_count": 39,
   "metadata": {
    "colab": {
     "base_uri": "https://localhost:8080/"
    },
    "id": "sCNik4UfDEPF",
    "outputId": "4c6a4c18-5756-4939-a289-05dd68456ccd"
   },
   "outputs": [
    {
     "data": {
      "text/plain": [
       "0             object\n",
       "1             object\n",
       "clean_plot    object\n",
       "length         int64\n",
       "dtype: object"
      ]
     },
     "execution_count": 39,
     "metadata": {},
     "output_type": "execute_result"
    }
   ],
   "source": [
    "DataSet.dtypes"
   ]
  },
  {
   "cell_type": "code",
   "execution_count": 40,
   "metadata": {
    "id": "W8pmxvGcDFyU"
   },
   "outputs": [],
   "source": [
    "DataSet[0] = DataSet[0].astype('int')"
   ]
  },
  {
   "cell_type": "code",
   "execution_count": 41,
   "metadata": {
    "id": "3-oUh6ezDwV1"
   },
   "outputs": [],
   "source": [
    "DataSet.rename(columns = {0:'target'}, inplace = True)"
   ]
  },
  {
   "cell_type": "code",
   "execution_count": 42,
   "metadata": {
    "colab": {
     "base_uri": "https://localhost:8080/",
     "height": 206
    },
    "id": "QlZM3qhoD3YS",
    "outputId": "cfa19d11-3ba3-4a26-a00a-28bb5c58f885"
   },
   "outputs": [
    {
     "data": {
      "text/html": [
       "<div>\n",
       "<style scoped>\n",
       "    .dataframe tbody tr th:only-of-type {\n",
       "        vertical-align: middle;\n",
       "    }\n",
       "\n",
       "    .dataframe tbody tr th {\n",
       "        vertical-align: top;\n",
       "    }\n",
       "\n",
       "    .dataframe thead th {\n",
       "        text-align: right;\n",
       "    }\n",
       "</style>\n",
       "<table border=\"1\" class=\"dataframe\">\n",
       "  <thead>\n",
       "    <tr style=\"text-align: right;\">\n",
       "      <th></th>\n",
       "      <th>target</th>\n",
       "      <th>1</th>\n",
       "      <th>clean_plot</th>\n",
       "      <th>length</th>\n",
       "    </tr>\n",
       "  </thead>\n",
       "  <tbody>\n",
       "    <tr>\n",
       "      <th>0</th>\n",
       "      <td>0</td>\n",
       "      <td>Go until jurong point, crazy.. Available only ...</td>\n",
       "      <td>go jurong point crazy available bugis n great ...</td>\n",
       "      <td>82</td>\n",
       "    </tr>\n",
       "    <tr>\n",
       "      <th>1</th>\n",
       "      <td>0</td>\n",
       "      <td>Ok lar... Joking wif u oni...</td>\n",
       "      <td>ok lar joking wif u oni</td>\n",
       "      <td>23</td>\n",
       "    </tr>\n",
       "    <tr>\n",
       "      <th>2</th>\n",
       "      <td>1</td>\n",
       "      <td>Free entry in 2 a wkly comp to win FA Cup fina...</td>\n",
       "      <td>free entry wkly comp win fa cup final tkts st ...</td>\n",
       "      <td>102</td>\n",
       "    </tr>\n",
       "    <tr>\n",
       "      <th>3</th>\n",
       "      <td>0</td>\n",
       "      <td>U dun say so early hor... U c already then say...</td>\n",
       "      <td>u dun say early hor u c already say</td>\n",
       "      <td>35</td>\n",
       "    </tr>\n",
       "    <tr>\n",
       "      <th>4</th>\n",
       "      <td>0</td>\n",
       "      <td>Nah I don't think he goes to usf, he lives aro...</td>\n",
       "      <td>nah dont think goes usf lives around though</td>\n",
       "      <td>43</td>\n",
       "    </tr>\n",
       "  </tbody>\n",
       "</table>\n",
       "</div>"
      ],
      "text/plain": [
       "   target                                                  1  \\\n",
       "0       0  Go until jurong point, crazy.. Available only ...   \n",
       "1       0                      Ok lar... Joking wif u oni...   \n",
       "2       1  Free entry in 2 a wkly comp to win FA Cup fina...   \n",
       "3       0  U dun say so early hor... U c already then say...   \n",
       "4       0  Nah I don't think he goes to usf, he lives aro...   \n",
       "\n",
       "                                          clean_plot  length  \n",
       "0  go jurong point crazy available bugis n great ...      82  \n",
       "1                            ok lar joking wif u oni      23  \n",
       "2  free entry wkly comp win fa cup final tkts st ...     102  \n",
       "3                u dun say early hor u c already say      35  \n",
       "4        nah dont think goes usf lives around though      43  "
      ]
     },
     "execution_count": 42,
     "metadata": {},
     "output_type": "execute_result"
    }
   ],
   "source": [
    "DataSet.head()"
   ]
  },
  {
   "cell_type": "code",
   "execution_count": 43,
   "metadata": {
    "id": "JLRjLA51kL_0"
   },
   "outputs": [],
   "source": [
    "DataSet['clean_plot'] = DataSet['clean_plot'].astype('category')"
   ]
  },
  {
   "cell_type": "code",
   "execution_count": 44,
   "metadata": {
    "colab": {
     "base_uri": "https://localhost:8080/"
    },
    "id": "A_ffNU2N_y_g",
    "outputId": "831d0585-0ba0-4359-8595-20424b0f4924"
   },
   "outputs": [
    {
     "data": {
      "text/plain": [
       "target           int32\n",
       "1               object\n",
       "clean_plot    category\n",
       "length           int64\n",
       "dtype: object"
      ]
     },
     "execution_count": 44,
     "metadata": {},
     "output_type": "execute_result"
    }
   ],
   "source": [
    "DataSet.dtypes"
   ]
  },
  {
   "cell_type": "markdown",
   "metadata": {
    "id": "dR3xGwH0NG3b"
   },
   "source": [
    "Spliting the dataset "
   ]
  },
  {
   "cell_type": "code",
   "execution_count": 45,
   "metadata": {
    "id": "WoEyodfa_a17"
   },
   "outputs": [],
   "source": [
    "X = DataSet['clean_plot']\n",
    "y = DataSet['target']"
   ]
  },
  {
   "cell_type": "code",
   "execution_count": 46,
   "metadata": {
    "id": "ENhqGH_vMSYS"
   },
   "outputs": [],
   "source": [
    "xtrain, xval, ytrain, yval = train_test_split(X, y, test_size=0.2, random_state=9)"
   ]
  },
  {
   "cell_type": "code",
   "execution_count": 47,
   "metadata": {
    "id": "g_6FRPbQAEW8"
   },
   "outputs": [],
   "source": [
    "xtrain_tfidf = tfidf_vectorizer.fit_transform(xtrain)\n",
    "xval_tfidf = tfidf_vectorizer.transform(xval)"
   ]
  },
  {
   "cell_type": "code",
   "execution_count": 48,
   "metadata": {
    "colab": {
     "base_uri": "https://localhost:8080/"
    },
    "id": "LTEHhGyxNBsN",
    "outputId": "b120a49c-cc01-421c-c439-4cd09ffeed20"
   },
   "outputs": [
    {
     "data": {
      "text/plain": [
       "<67217724x1 sparse matrix of type '<class 'numpy.float64'>'\n",
       "\twith 74665 stored elements in COOrdinate format>"
      ]
     },
     "execution_count": 48,
     "metadata": {},
     "output_type": "execute_result"
    }
   ],
   "source": [
    "xtrain_tfidf.reshape(-1,1)"
   ]
  },
  {
   "cell_type": "markdown",
   "metadata": {
    "id": "tYrrwiceNBVz"
   },
   "source": []
  },
  {
   "cell_type": "code",
   "execution_count": 49,
   "metadata": {
    "id": "l_sC501vAIj0"
   },
   "outputs": [],
   "source": [
    "\n",
    "from sklearn.linear_model import LogisticRegression\n",
    "\n",
    "# Binary Relevance\n",
    "#from sklearn.multiclass import OneVsRestClassifier\n",
    "\n",
    "# Performance metric\n",
    "from sklearn.metrics import f1_score\n",
    "from sklearn.metrics import precision_score\n",
    "from sklearn.metrics import recall_score\n",
    "from sklearn.metrics import accuracy_score"
   ]
  },
  {
   "cell_type": "markdown",
   "metadata": {
    "id": "OlHLVfhyMjC-"
   },
   "source": [
    "## Model Building "
   ]
  },
  {
   "cell_type": "markdown",
   "metadata": {
    "id": "hdwcsPw_Mpyb"
   },
   "source": [
    "1 Logistic Regression \n",
    "\n",
    "2 RandomForest Classifier \n",
    "\n",
    "3 Naive Bayes \n",
    "\n",
    "4 Xg Boost\n",
    "\n",
    "5.Decision Trees\n",
    "\n",
    "6.SVM Classifier\n",
    "\n",
    "7.KNN Classifier"
   ]
  },
  {
   "cell_type": "markdown",
   "metadata": {
    "id": "cEdiS8ScS_d4"
   },
   "source": [
    "# Logistic Regression "
   ]
  },
  {
   "cell_type": "code",
   "execution_count": 50,
   "metadata": {
    "id": "5NJdXztVAMIx"
   },
   "outputs": [],
   "source": [
    "lr = LogisticRegression()"
   ]
  },
  {
   "cell_type": "code",
   "execution_count": 51,
   "metadata": {
    "colab": {
     "base_uri": "https://localhost:8080/"
    },
    "id": "u7STAyLqAOjz",
    "outputId": "7c6050c1-bbd9-4fb6-ac2c-2f1b167894f8"
   },
   "outputs": [
    {
     "data": {
      "text/plain": [
       "LogisticRegression()"
      ]
     },
     "execution_count": 51,
     "metadata": {},
     "output_type": "execute_result"
    }
   ],
   "source": [
    "lr.fit(xtrain_tfidf,ytrain)"
   ]
  },
  {
   "cell_type": "code",
   "execution_count": 52,
   "metadata": {
    "colab": {
     "base_uri": "https://localhost:8080/"
    },
    "id": "4OR9rU5ALj7B",
    "outputId": "99b6d897-aef4-416c-ddfe-47da4ac07b90"
   },
   "outputs": [
    {
     "name": "stdout",
     "output_type": "stream",
     "text": [
      "              precision    recall  f1-score   support\n",
      "\n",
      "           0       0.98      1.00      0.99      7742\n",
      "           1       0.99      0.87      0.93      1174\n",
      "\n",
      "    accuracy                           0.98      8916\n",
      "   macro avg       0.99      0.94      0.96      8916\n",
      "weighted avg       0.98      0.98      0.98      8916\n",
      "\n"
     ]
    }
   ],
   "source": [
    "y_true = ytrain\n",
    "y_pred = lr.predict(xtrain_tfidf)\n",
    "\n",
    "from sklearn.metrics import classification_report\n",
    "classificationReport = classification_report(y_true, y_pred)\n",
    "\n",
    "print(classificationReport)"
   ]
  },
  {
   "cell_type": "code",
   "execution_count": 53,
   "metadata": {
    "colab": {
     "base_uri": "https://localhost:8080/"
    },
    "id": "2ctg2EfaNsRj",
    "outputId": "0535ac41-bba6-44d3-9c9d-dbf6123d5343"
   },
   "outputs": [
    {
     "name": "stdout",
     "output_type": "stream",
     "text": [
      "              precision    recall  f1-score   support\n",
      "\n",
      "           0       0.97      1.00      0.98      1910\n",
      "           1       0.98      0.81      0.89       320\n",
      "\n",
      "    accuracy                           0.97      2230\n",
      "   macro avg       0.97      0.90      0.93      2230\n",
      "weighted avg       0.97      0.97      0.97      2230\n",
      "\n"
     ]
    }
   ],
   "source": [
    "y_true = yval\n",
    "y_pred = lr.predict(xval_tfidf)\n",
    "\n",
    "from sklearn.metrics import classification_report\n",
    "classificationReport = classification_report(y_true, y_pred)\n",
    "\n",
    "print(classificationReport)"
   ]
  },
  {
   "cell_type": "code",
   "execution_count": 54,
   "metadata": {
    "colab": {
     "base_uri": "https://localhost:8080/"
    },
    "id": "aYv-BHoxOe_c",
    "outputId": "1837e8fc-33bf-463c-d923-f019294ca000"
   },
   "outputs": [
    {
     "name": "stdout",
     "output_type": "stream",
     "text": [
      "F1= 0.9699551569506727\n",
      "Precision= 0.9699551569506727\n",
      "recall= 0.9699551569506727\n",
      "Accuracy= 0.9699551569506727\n"
     ]
    }
   ],
   "source": [
    "# evaluate performance\n",
    "print(\"F1=\",f1_score(y_pred, yval, average=\"micro\"))\n",
    "print(\"Precision=\",precision_score(y_pred, yval, average=\"micro\"))\n",
    "print(\"recall=\",recall_score(y_pred, yval, average=\"micro\"))\n",
    "print(\"Accuracy=\",accuracy_score(y_pred, yval))"
   ]
  },
  {
   "cell_type": "code",
   "execution_count": 55,
   "metadata": {
    "colab": {
     "base_uri": "https://localhost:8080/"
    },
    "id": "B9ufD6c7ljo-",
    "outputId": "5ff73e60-6e3b-46b3-a8f3-0e505598e5a7"
   },
   "outputs": [
    {
     "data": {
      "text/plain": [
       "array([[1904,    6],\n",
       "       [  61,  259]], dtype=int64)"
      ]
     },
     "execution_count": 55,
     "metadata": {},
     "output_type": "execute_result"
    }
   ],
   "source": [
    "from sklearn.metrics import confusion_matrix as cm\n",
    "cm(y_true, y_pred)"
   ]
  },
  {
   "cell_type": "markdown",
   "metadata": {
    "id": "xMA32OXNTHtw"
   },
   "source": [
    "# RandomForest Classifier"
   ]
  },
  {
   "cell_type": "code",
   "execution_count": 56,
   "metadata": {
    "id": "SWRsu3ZRnta0"
   },
   "outputs": [],
   "source": [
    "from sklearn.ensemble import RandomForestClassifier"
   ]
  },
  {
   "cell_type": "code",
   "execution_count": 57,
   "metadata": {
    "id": "nyS5kRi-n_D2"
   },
   "outputs": [],
   "source": [
    "clf = RandomForestClassifier()\n",
    "clf.fit(xtrain_tfidf,ytrain)\n",
    "y_true = ytrain\n",
    "y_pred = clf.predict(xtrain_tfidf)"
   ]
  },
  {
   "cell_type": "markdown",
   "metadata": {
    "id": "zj8U2u1aURNP"
   },
   "source": [
    "### Classification Report on Train and test"
   ]
  },
  {
   "cell_type": "code",
   "execution_count": 58,
   "metadata": {
    "colab": {
     "base_uri": "https://localhost:8080/"
    },
    "id": "VklOa4J5n_By",
    "outputId": "e886bb48-0227-4d90-adf4-39fcac1c7ad8"
   },
   "outputs": [
    {
     "name": "stdout",
     "output_type": "stream",
     "text": [
      "              precision    recall  f1-score   support\n",
      "\n",
      "           0       1.00      1.00      1.00      7742\n",
      "           1       1.00      1.00      1.00      1174\n",
      "\n",
      "    accuracy                           1.00      8916\n",
      "   macro avg       1.00      1.00      1.00      8916\n",
      "weighted avg       1.00      1.00      1.00      8916\n",
      "\n"
     ]
    }
   ],
   "source": [
    "classificationReport = classification_report(y_true, y_pred)\n",
    "\n",
    "print(classificationReport)"
   ]
  },
  {
   "cell_type": "code",
   "execution_count": 59,
   "metadata": {
    "colab": {
     "base_uri": "https://localhost:8080/"
    },
    "id": "i2IvKlP6n-9D",
    "outputId": "ef481d44-2df3-465f-cbf7-e0dea4e1522e"
   },
   "outputs": [
    {
     "name": "stdout",
     "output_type": "stream",
     "text": [
      "              precision    recall  f1-score   support\n",
      "\n",
      "           0       1.00      1.00      1.00      1910\n",
      "           1       1.00      0.98      0.99       320\n",
      "\n",
      "    accuracy                           1.00      2230\n",
      "   macro avg       1.00      0.99      0.99      2230\n",
      "weighted avg       1.00      1.00      1.00      2230\n",
      "\n"
     ]
    }
   ],
   "source": [
    "y_true = yval\n",
    "y_pred = clf.predict(xval_tfidf)\n",
    "\n",
    "from sklearn.metrics import classification_report\n",
    "classificationReport = classification_report(y_true, y_pred)\n",
    "\n",
    "print(classificationReport)"
   ]
  },
  {
   "cell_type": "code",
   "execution_count": 60,
   "metadata": {
    "colab": {
     "base_uri": "https://localhost:8080/"
    },
    "id": "nx2qpzcfPFOe",
    "outputId": "ce9c6934-8fe8-49ba-d38c-601e970d3617"
   },
   "outputs": [
    {
     "name": "stdout",
     "output_type": "stream",
     "text": [
      "F1= 0.9973094170403587\n",
      "Precision= 0.9973094170403587\n",
      "recall= 0.9973094170403587\n",
      "Accuracy= 0.9973094170403587\n"
     ]
    }
   ],
   "source": [
    "# evaluate performance\n",
    "print(\"F1=\",f1_score(y_pred, y_true, average=\"micro\"))\n",
    "print(\"Precision=\",precision_score(y_pred, yval, average=\"micro\"))\n",
    "print(\"recall=\",recall_score(y_pred, yval, average=\"micro\"))\n",
    "print(\"Accuracy=\",accuracy_score(y_pred, yval))"
   ]
  },
  {
   "cell_type": "code",
   "execution_count": 61,
   "metadata": {
    "colab": {
     "base_uri": "https://localhost:8080/"
    },
    "id": "6FYqsP2vo3MG",
    "outputId": "2b591b0e-0ae2-4bff-c681-b7d65bb802fb"
   },
   "outputs": [
    {
     "data": {
      "text/plain": [
       "array([[1910,    0],\n",
       "       [   6,  314]], dtype=int64)"
      ]
     },
     "execution_count": 61,
     "metadata": {},
     "output_type": "execute_result"
    }
   ],
   "source": [
    "from sklearn.metrics import confusion_matrix as cm\n",
    "cm(y_true, y_pred)"
   ]
  },
  {
   "cell_type": "markdown",
   "metadata": {
    "id": "zLw4CFquTOhy"
   },
   "source": [
    "# Naive Bayes Classifier "
   ]
  },
  {
   "cell_type": "code",
   "execution_count": 62,
   "metadata": {
    "id": "isnaqikPo3JR"
   },
   "outputs": [],
   "source": [
    "from sklearn.naive_bayes import GaussianNB "
   ]
  },
  {
   "cell_type": "code",
   "execution_count": 63,
   "metadata": {
    "id": "rJhpYN0Gpnr7"
   },
   "outputs": [],
   "source": [
    "classifier = GaussianNB()"
   ]
  },
  {
   "cell_type": "code",
   "execution_count": 64,
   "metadata": {
    "colab": {
     "base_uri": "https://localhost:8080/"
    },
    "id": "91wyb-A_pnpY",
    "outputId": "18dfa0b2-fcb7-4353-cdb4-52f516bb9152"
   },
   "outputs": [
    {
     "data": {
      "text/plain": [
       "GaussianNB()"
      ]
     },
     "execution_count": 64,
     "metadata": {},
     "output_type": "execute_result"
    }
   ],
   "source": [
    "classifier.fit(xtrain_tfidf.toarray(),ytrain)"
   ]
  },
  {
   "cell_type": "code",
   "execution_count": 65,
   "metadata": {
    "id": "motqHVIdpnmZ"
   },
   "outputs": [],
   "source": [
    "y_true = yval\n",
    "y_pred = classifier.predict(xval_tfidf.toarray())\n",
    "\n",
    "from sklearn.metrics import classification_report\n",
    "classificationReport = classification_report(y_true, y_pred)\n"
   ]
  },
  {
   "cell_type": "code",
   "execution_count": 66,
   "metadata": {
    "colab": {
     "base_uri": "https://localhost:8080/"
    },
    "id": "XOdbTbuiQjPs",
    "outputId": "24030c8b-6789-4f73-a299-28f68058b1b6"
   },
   "outputs": [
    {
     "name": "stdout",
     "output_type": "stream",
     "text": [
      "F1= 0.9295964125560539\n",
      "Precision= 0.9295964125560539\n",
      "recall= 0.9295964125560539\n",
      "Accuracy= 0.9295964125560539\n"
     ]
    }
   ],
   "source": [
    "# evaluate performance\n",
    "print(\"F1=\",f1_score(y_pred, y_true, average=\"micro\"))\n",
    "print(\"Precision=\",precision_score(y_pred, yval, average=\"micro\"))\n",
    "print(\"recall=\",recall_score(y_pred, yval, average=\"micro\"))\n",
    "print(\"Accuracy=\",accuracy_score(y_pred, yval))"
   ]
  },
  {
   "cell_type": "code",
   "execution_count": 67,
   "metadata": {
    "colab": {
     "base_uri": "https://localhost:8080/"
    },
    "id": "yAiSG25_qPPP",
    "outputId": "5ee329b4-decd-4c9b-d2b8-9d6ca125d8b1"
   },
   "outputs": [
    {
     "data": {
      "text/plain": [
       "array([[1756,  154],\n",
       "       [   3,  317]], dtype=int64)"
      ]
     },
     "execution_count": 67,
     "metadata": {},
     "output_type": "execute_result"
    }
   ],
   "source": [
    "cm(y_true, y_pred)"
   ]
  },
  {
   "cell_type": "markdown",
   "metadata": {
    "id": "0EIokvYfTWwy"
   },
   "source": [
    "# XG Boost Classifier"
   ]
  },
  {
   "cell_type": "code",
   "execution_count": 68,
   "metadata": {
    "id": "Ka60lovpqbNl"
   },
   "outputs": [
    {
     "ename": "ModuleNotFoundError",
     "evalue": "No module named 'xgboost'",
     "output_type": "error",
     "traceback": [
      "\u001b[1;31m---------------------------------------------------------------------------\u001b[0m",
      "\u001b[1;31mModuleNotFoundError\u001b[0m                       Traceback (most recent call last)",
      "\u001b[1;32m~\\AppData\\Local\\Temp/ipykernel_6400/2132731129.py\u001b[0m in \u001b[0;36m<module>\u001b[1;34m\u001b[0m\n\u001b[1;32m----> 1\u001b[1;33m \u001b[1;32mfrom\u001b[0m \u001b[0mxgboost\u001b[0m\u001b[1;33m.\u001b[0m\u001b[0msklearn\u001b[0m \u001b[1;32mimport\u001b[0m \u001b[0mXGBClassifier\u001b[0m\u001b[1;33m\u001b[0m\u001b[1;33m\u001b[0m\u001b[0m\n\u001b[0m",
      "\u001b[1;31mModuleNotFoundError\u001b[0m: No module named 'xgboost'"
     ]
    }
   ],
   "source": [
    "from xgboost.sklearn import XGBClassifier"
   ]
  },
  {
   "cell_type": "code",
   "execution_count": null,
   "metadata": {
    "id": "FNLuh5Q2qbK7"
   },
   "outputs": [],
   "source": [
    "xg = XGBClassifier()\n",
    "xg.fit(xtrain_tfidf,ytrain)\n",
    "y_true = ytrain\n",
    "y_pred = xg.predict(xtrain_tfidf)"
   ]
  },
  {
   "cell_type": "markdown",
   "metadata": {
    "id": "MHxEddsZTqF-"
   },
   "source": [
    "Model Evaluation"
   ]
  },
  {
   "cell_type": "code",
   "execution_count": null,
   "metadata": {
    "colab": {
     "base_uri": "https://localhost:8080/"
    },
    "id": "jWq9Jb1DqvHf",
    "outputId": "c9ffc4b2-e0a4-4da3-f39b-da43c8490c46"
   },
   "outputs": [],
   "source": [
    "y_true = ytrain\n",
    "y_pred = xg.predict(xtrain_tfidf)\n",
    "\n",
    "from sklearn.metrics import classification_report\n",
    "classificationReport = classification_report(y_true, y_pred)\n",
    "\n",
    "print(classificationReport)"
   ]
  },
  {
   "cell_type": "code",
   "execution_count": null,
   "metadata": {
    "colab": {
     "base_uri": "https://localhost:8080/"
    },
    "id": "Dc4XLuu4qbGJ",
    "outputId": "89acd533-67ea-406b-98a3-8d3f2fcbd216"
   },
   "outputs": [],
   "source": [
    "y_true = yval\n",
    "y_pred = xg.predict(xval_tfidf)\n",
    "classificationReport = classification_report(y_true, y_pred)\n",
    "\n",
    "print(classificationReport)"
   ]
  },
  {
   "cell_type": "code",
   "execution_count": null,
   "metadata": {
    "colab": {
     "base_uri": "https://localhost:8080/"
    },
    "id": "Z7AvDZHrqbDp",
    "outputId": "7e5f79f5-2252-489b-f28e-94683674411a"
   },
   "outputs": [],
   "source": [
    "# Printing Confusion Matrix\n",
    "cm(y_true, y_pred)"
   ]
  },
  {
   "cell_type": "code",
   "execution_count": null,
   "metadata": {
    "colab": {
     "base_uri": "https://localhost:8080/",
     "height": 206
    },
    "id": "Pryj5l4Ydska",
    "outputId": "0f0809b8-f83d-4bed-e002-c252672d43b0"
   },
   "outputs": [],
   "source": [
    "DataSet.head()"
   ]
  },
  {
   "cell_type": "markdown",
   "metadata": {
    "id": "DDEgUBrROJht"
   },
   "source": [
    "## Decision Tree"
   ]
  },
  {
   "cell_type": "code",
   "execution_count": null,
   "metadata": {
    "id": "Ftf1qHbwMTXl"
   },
   "outputs": [],
   "source": [
    "from sklearn.tree import DecisionTreeClassifier"
   ]
  },
  {
   "cell_type": "code",
   "execution_count": null,
   "metadata": {
    "id": "nvja68MgMZLk"
   },
   "outputs": [],
   "source": [
    "clf = DecisionTreeClassifier().fit(xtrain_tfidf,ytrain)"
   ]
  },
  {
   "cell_type": "code",
   "execution_count": null,
   "metadata": {
    "colab": {
     "base_uri": "https://localhost:8080/"
    },
    "id": "3Cvkt_cLMZI8",
    "outputId": "5ab3ac34-2646-4f89-a310-ad4752309c22"
   },
   "outputs": [],
   "source": [
    "y_true = ytrain\n",
    "y_pred = clf.predict(xtrain_tfidf)\n",
    "\n",
    "from sklearn.metrics import classification_report\n",
    "classificationReport = classification_report(y_true, y_pred)\n",
    "\n",
    "print(classificationReport)"
   ]
  },
  {
   "cell_type": "code",
   "execution_count": null,
   "metadata": {
    "colab": {
     "base_uri": "https://localhost:8080/"
    },
    "id": "NBQN2cRtMZFq",
    "outputId": "2c71f27d-72e0-406d-ffc9-18550a653597"
   },
   "outputs": [],
   "source": [
    "y_true = yval\n",
    "y_pred = clf.predict(xval_tfidf)\n",
    "classificationReport = classification_report(y_true, y_pred)\n",
    "\n",
    "print(classificationReport)"
   ]
  },
  {
   "cell_type": "code",
   "execution_count": null,
   "metadata": {
    "colab": {
     "base_uri": "https://localhost:8080/"
    },
    "id": "ZwmVVXhMMZC1",
    "outputId": "bc6e68ca-4d0f-4682-ad3e-ae2f03e8c10e"
   },
   "outputs": [],
   "source": [
    "# evaluate performance\n",
    "print(\"F1=\",f1_score(y_pred, y_true, average=\"micro\"))\n",
    "print(\"Precision=\",precision_score(y_pred, yval, average=\"micro\"))\n",
    "print(\"recall=\",recall_score(y_pred, yval, average=\"micro\"))\n",
    "print(\"Accuracy=\",accuracy_score(y_pred, yval))"
   ]
  },
  {
   "cell_type": "markdown",
   "metadata": {
    "id": "vuzj5M5YPZpC"
   },
   "source": [
    "## SVM Classifier"
   ]
  },
  {
   "cell_type": "code",
   "execution_count": null,
   "metadata": {
    "id": "5aHrf0pWMTU0"
   },
   "outputs": [],
   "source": [
    "from sklearn import svm"
   ]
  },
  {
   "cell_type": "code",
   "execution_count": null,
   "metadata": {
    "id": "lc5N_mgfPCrV"
   },
   "outputs": [],
   "source": [
    "clf = svm.SVC(C=1,kernel=\"linear\")"
   ]
  },
  {
   "cell_type": "code",
   "execution_count": null,
   "metadata": {
    "colab": {
     "base_uri": "https://localhost:8080/"
    },
    "id": "Yqax1_KbPCoU",
    "outputId": "50087b34-d5bf-4531-f05a-a25c698d92f7"
   },
   "outputs": [],
   "source": [
    "clf.fit(xtrain_tfidf,ytrain)"
   ]
  },
  {
   "cell_type": "code",
   "execution_count": null,
   "metadata": {
    "colab": {
     "base_uri": "https://localhost:8080/"
    },
    "id": "RSShtVViPClr",
    "outputId": "436763ad-6fd4-4b76-a20f-cf383257115e"
   },
   "outputs": [],
   "source": [
    "y_true = ytrain\n",
    "y_pred = clf.predict(xtrain_tfidf)\n",
    "\n",
    "from sklearn.metrics import classification_report\n",
    "classificationReport = classification_report(y_true, y_pred)\n",
    "\n",
    "print(classificationReport)"
   ]
  },
  {
   "cell_type": "code",
   "execution_count": null,
   "metadata": {
    "colab": {
     "base_uri": "https://localhost:8080/"
    },
    "id": "vJINqh_mPCij",
    "outputId": "e9a807b5-4d2e-4f91-b44e-1890e6f6d607"
   },
   "outputs": [],
   "source": [
    "y_true = yval\n",
    "y_pred = clf.predict(xval_tfidf)\n",
    "classificationReport = classification_report(y_true, y_pred)\n",
    "\n",
    "print(classificationReport)"
   ]
  },
  {
   "cell_type": "code",
   "execution_count": null,
   "metadata": {
    "colab": {
     "base_uri": "https://localhost:8080/"
    },
    "id": "ZymSJCR8PCfV",
    "outputId": "296b4ef5-10ba-47b1-b031-187a11b151db"
   },
   "outputs": [],
   "source": [
    "# evaluate performance\n",
    "print(\"F1=\",f1_score(y_pred, y_true, average=\"micro\"))\n",
    "print(\"Precision=\",precision_score(y_pred, yval, average=\"micro\"))\n",
    "print(\"recall=\",recall_score(y_pred, yval, average=\"micro\"))\n",
    "print(\"Accuracy=\",accuracy_score(y_pred, yval))"
   ]
  },
  {
   "cell_type": "markdown",
   "metadata": {
    "id": "KWx919ChQfCW"
   },
   "source": [
    "## KNN Classifier"
   ]
  },
  {
   "cell_type": "code",
   "execution_count": null,
   "metadata": {
    "id": "g-175SYUMTSO"
   },
   "outputs": [],
   "source": [
    "from sklearn.neighbors import KNeighborsClassifier"
   ]
  },
  {
   "cell_type": "code",
   "execution_count": null,
   "metadata": {
    "id": "f0jzlWeyMTPS"
   },
   "outputs": [],
   "source": [
    "knn = KNeighborsClassifier()"
   ]
  },
  {
   "cell_type": "code",
   "execution_count": null,
   "metadata": {
    "colab": {
     "base_uri": "https://localhost:8080/"
    },
    "id": "gC1o4M4mMTMl",
    "outputId": "fea08509-537c-4e0e-c0c5-2a7e989b2748"
   },
   "outputs": [],
   "source": [
    "knn.fit(xtrain_tfidf,ytrain)"
   ]
  },
  {
   "cell_type": "code",
   "execution_count": null,
   "metadata": {
    "id": "zqYFpAtdMTHK"
   },
   "outputs": [],
   "source": [
    "clf = knn"
   ]
  },
  {
   "cell_type": "code",
   "execution_count": null,
   "metadata": {
    "colab": {
     "base_uri": "https://localhost:8080/"
    },
    "id": "FeJTZKSbMTEH",
    "outputId": "08aee279-45f4-40be-a7be-7a0eb4fd2e6b"
   },
   "outputs": [],
   "source": [
    "y_true = ytrain\n",
    "y_pred = clf.predict(xtrain_tfidf)\n",
    "\n",
    "from sklearn.metrics import classification_report\n",
    "classificationReport = classification_report(y_true, y_pred)\n",
    "\n",
    "print(classificationReport)"
   ]
  },
  {
   "cell_type": "code",
   "execution_count": null,
   "metadata": {
    "colab": {
     "base_uri": "https://localhost:8080/"
    },
    "id": "WbrFivzwMdna",
    "outputId": "4c306784-0559-4bb5-a190-6cfd5cba92be"
   },
   "outputs": [],
   "source": [
    "y_true = yval\n",
    "y_pred = clf.predict(xval_tfidf)\n",
    "classificationReport = classification_report(y_true, y_pred)\n",
    "\n",
    "print(classificationReport)"
   ]
  },
  {
   "cell_type": "markdown",
   "metadata": {
    "id": "_IgvzdQrs-Ns"
   },
   "source": [
    "##Final Report\n",
    "\n",
    "**Metric choosen**: Recall \n",
    "\n",
    "**Reason**:I figured out that my most important task is not to miss any spam SMS. Hence, precision is the exact metric that I should look at.\n",
    "\n",
    "**Best Model**: Hence, out of all the models created, decision trees had the best recall of 99% on the validation dataset and 100% on the training dataset.  \n",
    "\n",
    "\n",
    "\n",
    "\n"
   ]
  },
  {
   "cell_type": "code",
   "execution_count": null,
   "metadata": {
    "id": "KXNIkEi2Mdkm"
   },
   "outputs": [],
   "source": []
  },
  {
   "cell_type": "code",
   "execution_count": null,
   "metadata": {
    "id": "gL_4uB8iMdh-"
   },
   "outputs": [],
   "source": []
  },
  {
   "cell_type": "code",
   "execution_count": null,
   "metadata": {
    "id": "zW_eMR7nMdfY"
   },
   "outputs": [],
   "source": []
  },
  {
   "cell_type": "code",
   "execution_count": null,
   "metadata": {
    "id": "-LPvHLtlMdcZ"
   },
   "outputs": [],
   "source": []
  }
 ],
 "metadata": {
  "colab": {
   "collapsed_sections": [],
   "name": "Upload Notebook.ipynb",
   "provenance": []
  },
  "kernelspec": {
   "display_name": "Python 3 (ipykernel)",
   "language": "python",
   "name": "python3"
  },
  "language_info": {
   "codemirror_mode": {
    "name": "ipython",
    "version": 3
   },
   "file_extension": ".py",
   "mimetype": "text/x-python",
   "name": "python",
   "nbconvert_exporter": "python",
   "pygments_lexer": "ipython3",
   "version": "3.9.7"
  }
 },
 "nbformat": 4,
 "nbformat_minor": 1
}
